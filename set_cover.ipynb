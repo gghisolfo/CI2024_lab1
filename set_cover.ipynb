{
  "cells": [
    {
      "cell_type": "markdown",
      "metadata": {
        "id": "8PwAeAOocTQZ"
      },
      "source": [
        "Copyright **`(c)`** 2024 Giovanni Squillero `<giovanni.squillero@polito.it>`  \n",
        "[`https://github.com/squillero/computational-intelligence`](https://github.com/squillero/computational-intelligence)  \n",
        "Free for personal or classroom use; see [`LICENSE.md`](https://github.com/squillero/computational-intelligence/blob/master/LICENSE.md) for details.  "
      ]
    },
    {
      "cell_type": "markdown",
      "metadata": {
        "id": "kY-fU-YvcTQa"
      },
      "source": [
        "# Set Cover problem\n",
        "\n",
        "See: https://en.wikipedia.org/wiki/Set_cover_problem"
      ]
    },
    {
      "cell_type": "code",
      "execution_count": 1,
      "metadata": {
        "colab": {
          "base_uri": "https://localhost:8080/"
        },
        "id": "sgMHj_fkcTQb",
        "outputId": "f968b270-f08b-43b2-9af2-a308eaf67644"
      },
      "outputs": [],
      "source": [
        "\n",
        "from random import random, seed\n",
        "from itertools import product\n",
        "import numpy as np\n",
        "from matplotlib import pyplot as plt\n",
        "from itertools import accumulate\n",
        "\n",
        "from icecream import ic\n"
      ]
    },
    {
      "cell_type": "markdown",
      "metadata": {
        "id": "BEQW_R5WcTQc"
      },
      "source": [
        "## Reproducible Initialization\n",
        "\n",
        "If you want to get reproducible results, use `rng` (and restart the kernel); for non-reproducible ones, use `np.random`."
      ]
    },
    {
      "cell_type": "code",
      "execution_count": 2,
      "metadata": {
        "id": "FJH4iStzcTQc"
      },
      "outputs": [],
      "source": [
        "UNIVERSE_SIZE = 2000\n",
        "NUM_SETS = 100\n",
        "DENSITY = 0.1\n",
        "\n",
        "rng = np.random.Generator(np.random.PCG64([UNIVERSE_SIZE, NUM_SETS, int(10_000 * DENSITY)]))"
      ]
    },
    {
      "cell_type": "code",
      "execution_count": 3,
      "metadata": {
        "id": "UDKU99RscTQc"
      },
      "outputs": [],
      "source": [
        "# DON'T EDIT THESE LINES!\n",
        "\n",
        "SETS = np.random.random((NUM_SETS, UNIVERSE_SIZE)) < DENSITY\n",
        "for s in range(UNIVERSE_SIZE):\n",
        "    if not np.any(SETS[:, s]):\n",
        "        SETS[np.random.randint(NUM_SETS), s] = True\n",
        "COSTS = np.power(SETS.sum(axis=1), 1.1)"
      ]
    },
    {
      "cell_type": "markdown",
      "metadata": {
        "id": "D3pWsS8QcTQc"
      },
      "source": [
        "## Helper Functions"
      ]
    },
    {
      "cell_type": "code",
      "execution_count": 4,
      "metadata": {
        "id": "s_ebWLaGcTQd"
      },
      "outputs": [],
      "source": [
        "def valid(solution):\n",
        "    \"\"\"Checks wether solution is valid (ie. covers all universe)\"\"\"\n",
        "    return np.all(np.logical_or.reduce(SETS[solution])) #phenotype: np.logical_or.reduce(SETS[solution])\n",
        "\n",
        "\n",
        "def cost(solution):\n",
        "    \"\"\"Returns the cost of a solution (to be minimized)\"\"\"\n",
        "    return COSTS[solution].sum()"
      ]
    },
    {
      "cell_type": "markdown",
      "metadata": {
        "id": "jxfvDwSucTQd"
      },
      "source": [
        "## Have Fun!"
      ]
    },
    {
      "cell_type": "code",
      "execution_count": null,
      "metadata": {
        "id": "envw8o67cTQd"
      },
      "outputs": [],
      "source": [
        "# A dumb solution of \"all\" sets\n",
        "#solution = np.full(NUM_SETS, True)\n",
        "#ic(valid(solution), cost(solution))\n",
        "#None"
      ]
    },
    {
      "cell_type": "code",
      "execution_count": null,
      "metadata": {
        "id": "A99FucmvcTQd"
      },
      "outputs": [],
      "source": [
        "# A random solution with random 50% of the sets\n",
        "#solution = rng.random(NUM_SETS) < .5\n",
        "#ic(valid(solution), cost(solution))\n",
        "#None"
      ]
    },
    {
      "cell_type": "code",
      "execution_count": 5,
      "metadata": {
        "id": "zuvKMlB4cTQd"
      },
      "outputs": [],
      "source": [
        "def fitness(solution:np.ndarray):\n",
        "    return (valid(solution),-cost(solution))"
      ]
    },
    {
      "cell_type": "code",
      "execution_count": 6,
      "metadata": {
        "id": "FctDW5UncTQe"
      },
      "outputs": [],
      "source": [
        "# Apply the greedy algorithm to the first set of LIST_OF_SETS\n",
        "class TabuSearch:\n",
        "    def __init__(self, list_of_sets, max_iterations, tabu_tenure, max_no_improve):\n",
        "        self.list_of_sets = list_of_sets\n",
        "        self.max_iterations = max_iterations\n",
        "        self.tabu_tenure = tabu_tenure\n",
        "        self.max_no_improve = max_no_improve\n",
        "        self.tabu_list = []\n",
        "        self.best_solution = None\n",
        "        self.best_cost = float('inf')\n",
        "        self.evaluations=0\n",
        "\n",
        "    def _get_coverage(self, selected_sets):\n",
        "        # Calculate the coverage of the selected sets\n",
        "        sets, _ = self.list_of_sets\n",
        "        covered = np.any(sets[selected_sets], axis=0)\n",
        "        return covered\n",
        "\n",
        "    def _evaluate_solution(self, selected_sets):\n",
        "        # Evaluate the solution based on the total cost of the selected sets\n",
        "        self.evaluations += 1\n",
        "        # Use the external cost function to compute the total cost\n",
        "        total_cost = cost(selected_sets)\n",
        "        # Get the coverage of elements by the selected sets\n",
        "        covered_elements = self._get_coverage(selected_sets)\n",
        "        # Calculate the number of uncovered elements\n",
        "        num_uncovered = np.sum(~covered_elements)\n",
        "\n",
        "        return total_cost, num_uncovered\n",
        "\n",
        "\n",
        "    def _generate_initial_solution(self):\n",
        "        # Greedy initialization: select sets that cover the most elements\n",
        "        sets, _ = self.list_of_sets\n",
        "        num_elements = sets.shape[1]\n",
        "        uncovered_elements = np.ones(num_elements, dtype=bool)\n",
        "        selected_sets = []\n",
        "\n",
        "        while np.any(uncovered_elements):\n",
        "            # Select the set that covers the most uncovered elements\n",
        "            cover_count = np.sum(sets[:, uncovered_elements], axis=1)\n",
        "            best_set = np.argmax(cover_count)\n",
        "            selected_sets.append(best_set)\n",
        "            uncovered_elements = uncovered_elements & ~sets[best_set]\n",
        "\n",
        "        return selected_sets\n",
        "\n",
        "    def _get_neighborhood(self, current_solution):\n",
        "        # Generate neighborhood by adding or removing one set from the current solution\n",
        "        sets, _ = self.list_of_sets\n",
        "        num_sets = sets.shape[0]\n",
        "        neighborhood = []\n",
        "\n",
        "        # Try adding a new set\n",
        "        for s in range(num_sets):\n",
        "            if s not in current_solution:\n",
        "                new_solution = current_solution + [s]\n",
        "                neighborhood.append(new_solution)\n",
        "\n",
        "        # Try removing a set\n",
        "        for s in current_solution:\n",
        "            new_solution = [i for i in current_solution if i != s]\n",
        "            neighborhood.append(new_solution)\n",
        "\n",
        "        return neighborhood\n",
        "\n",
        "    def run(self):\n",
        "        current_solution = self._generate_initial_solution()\n",
        "        current_cost, num_uncovered = self._evaluate_solution(current_solution)\n",
        "        best_solution = current_solution\n",
        "        best_solution_cover=len(current_solution)-num_uncovered\n",
        "        best_cost = current_cost\n",
        "        no_improve_count = 0\n",
        "\n",
        "        for iteration in range(self.max_iterations):\n",
        "            # print(f\"Iteration {iteration + 1}/{self.max_iterations}\")\n",
        "            neighborhood = self._get_neighborhood(current_solution)\n",
        "            best_neigh_solution = None\n",
        "            best_neigh_cost = float('inf')\n",
        "            best_neigh_cover = 0\n",
        "\n",
        "            # Evaluate all neighbors\n",
        "            for neighbor in neighborhood:\n",
        "                if neighbor not in self.tabu_list:\n",
        "                    neigh_cost, neigh_uncovered = self._evaluate_solution(neighbor)\n",
        "                    neigh_cover = len(neighbor) - neigh_uncovered  # Calculate coverage for neighbor\n",
        "\n",
        "                    # Only consider valid solutions that cover all elements\n",
        "                    if neigh_uncovered == 0 and neigh_cost < best_neigh_cost:\n",
        "                        best_neigh_solution = neighbor\n",
        "                        best_neigh_cost = neigh_cost\n",
        "                        best_neigh_cover=neigh_cover#len(best_neigh_solution)-neigh_uncovered\n",
        "\n",
        "            # If no valid neighbor found, stop\n",
        "            if best_neigh_solution is None:\n",
        "                break\n",
        "\n",
        "            # Update current solution to best neighbor\n",
        "            current_solution = best_neigh_solution\n",
        "            current_cost = best_neigh_cost\n",
        "            current_solution_cover=best_neigh_cover#len(current_solution)-neigh_uncovered\n",
        "\n",
        "\n",
        "            # Update tabu list\n",
        "            self.tabu_list.append(current_solution)\n",
        "            if len(self.tabu_list) > self.tabu_tenure:\n",
        "                self.tabu_list.pop(0)\n",
        "\n",
        "            # Update best solution if necessary\n",
        "            if current_cost < best_cost:\n",
        "                best_solution = current_solution\n",
        "                best_cost = current_cost\n",
        "                best_solution_cover=current_solution_cover\n",
        "\n",
        "                no_improve_count = 0\n",
        "            else:\n",
        "                no_improve_count += 1\n",
        "\n",
        "            # Stop if no improvement for too long\n",
        "            if no_improve_count >= self.max_no_improve:\n",
        "                break\n",
        "\n",
        "        self.best_solution = best_solution\n",
        "        self.best_cost = best_cost\n",
        "        return best_solution, best_cost, self.evaluations, best_solution_cover #best_solution_cover num of set to cover all elements"
      ]
    },
    {
      "cell_type": "code",
      "execution_count": 7,
      "metadata": {
        "colab": {
          "base_uri": "https://localhost:8080/"
        },
        "id": "Rzi-88y5cTQe",
        "outputId": "9a2713db-321f-4c07-c9c8-e218e47fe675"
      },
      "outputs": [
        {
          "name": "stdout",
          "output_type": "stream",
          "text": [
            "Results for Instance 1:\n",
            "Best Solution: [1, 5, 6, 3, 9, 4, 2, 7, 0, 8]\n",
            "Best Solution cover: 10\n",
            "Best Cost: 282.3050319470386\n",
            "----------------------------------------\n",
            "Results for Instance 2:\n",
            "Best Solution: [89, 97, 99, 10, 50, 11, 64, 75, 88, 27, 66, 32, 77, 6, 98, 0, 35]\n",
            "Best Solution cover: 17\n",
            "Best Cost: 6196.1924046211825\n",
            "----------------------------------------\n",
            "Results for Instance 3:\n",
            "Best Solution: [635, 323, 542, 202, 747, 448, 679, 425, 45, 692, 600, 599, 210, 223, 737, 147, 410, 57, 656, 292, 401, 930, 220]\n",
            "Best Solution cover: 23\n",
            "Best Cost: 99857.84962581997\n",
            "----------------------------------------\n",
            "Results for Instance 4:\n",
            "Best Solution: [9967, 6820, 2258, 4554, 2614, 9531, 5486, 9356, 4232, 7764, 3255, 6246, 7435, 7206, 1824, 4575, 1116, 2034, 788, 2586, 8309, 4756, 2550, 108, 2952, 8510, 1811, 384, 1480, 3865, 4625, 8091, 7050, 3894, 5768, 474, 8712, 9856, 185, 3684, 3762, 4284, 2869, 7223, 5949, 1386, 5110, 2035, 8727, 7066, 7620, 1638, 3578, 4474, 3447, 8601, 2921, 1492, 1683, 370]\n",
            "Best Solution cover: 60\n",
            "Best Cost: 1523190.7793373575\n",
            "----------------------------------------\n",
            "Results for Instance 5:\n",
            "Best Solution: [516, 473, 606, 17, 495, 690, 94, 67, 973, 532, 378, 372, 296, 711, 886, 494, 830, 339, 269, 576, 458, 569, 477, 302, 383, 102, 390, 884, 317, 158, 571, 508, 821]\n",
            "Best Solution cover: 33\n",
            "Best Cost: 1784749.0897429045\n",
            "----------------------------------------\n",
            "Results for Instance 6:\n",
            "Best Solution: [7845, 7003, 1681, 8305, 8375, 6337, 3319, 187, 4604, 9949, 2415, 5507, 5862, 5315, 8796, 1852, 156, 2547, 5153, 4796, 294]\n",
            "Best Solution cover: 21\n",
            "Best Cost: 1778247.702663089\n",
            "----------------------------------------\n"
          ]
        }
      ],
      "source": [
        "# UNIVERSE_SIZE = 2000  # Number of elements in the universe\n",
        "# NUM_SETS = 100        # Number of sets\n",
        "# DENSITY = 0.1         # Approximate density of coverage (10% of elements covered by each set)\n",
        "\n",
        "# Define your instances\n",
        "instances = [\n",
        "    {\"Universe size\": 100, \"Num sets\": 10, \"Density\": 0.2},\n",
        "    {\"Universe size\": 1_000, \"Num sets\": 100, \"Density\": 0.2},\n",
        "    {\"Universe size\": 10_000, \"Num sets\": 1_000, \"Density\": 0.2},\n",
        "    {\"Universe size\": 100_000, \"Num sets\": 10_000, \"Density\": 0.1},\n",
        "    {\"Universe size\": 100_000, \"Num sets\": 1_000, \"Density\": 0.2},\n",
        "    {\"Universe size\": 100_000, \"Num sets\": 10_000, \"Density\": 0.3},\n",
        "]\n",
        "\n",
        "# Initialize TabuSearch parameters\n",
        "max_iterations = 1000\n",
        "tabu_tenure = 50\n",
        "max_no_improve = 10\n",
        "\n",
        "# Iterate over all instances\n",
        "for i, instance in enumerate(instances, start=1):\n",
        "    # Extract parameters\n",
        "    universe_size = instance[\"Universe size\"]\n",
        "    num_sets = instance[\"Num sets\"]\n",
        "    density = instance[\"Density\"]\n",
        "\n",
        "    # Random number generator\n",
        "    rng = np.random.Generator(np.random.PCG64())\n",
        "\n",
        "    '''unedit line'''\n",
        "    SETS = np.random.random((num_sets, universe_size)) < density\n",
        "    for s in range(universe_size):\n",
        "        if not np.any(SETS[:, s]):\n",
        "            SETS[np.random.randint(num_sets), s] = True\n",
        "    COSTS = np.power(SETS.sum(axis=1), 1.1)\n",
        "    #print(f\"1------------------\")\n",
        "\n",
        "    # Combine sets and costs in a tuple as input\n",
        "    list_of_sets = (SETS, COSTS)\n",
        "\n",
        "    #print(f\"2------------------\")\n",
        "\n",
        "    # Initialize and run the TabuSearch algorithm\n",
        "    tabu_search = TabuSearch(list_of_sets, max_iterations, tabu_tenure, max_no_improve) #self, list_of_sets, max_iterations, tabu_tenure, max_no_improve\n",
        "    #print(f\"3------------------\")\n",
        "    best_solution, best_cost, evaluations, best_solution_cover = tabu_search.run()\n",
        "    #print(f\"4------------------\")\n",
        "\n",
        "    # Output results for the current instance\n",
        "    print(f\"Results for Instance {i}:\")\n",
        "    print(\"Best Solution:\", best_solution)\n",
        "    print(\"Best Solution cover:\", best_solution_cover)\n",
        "    print(\"Best Cost:\", best_cost)\n",
        "    #print(\"Total Evaluations:\", evaluations)\n",
        "    print('-' * 40)  # Separator for clarity between instances\n"
      ]
    }
  ],
  "metadata": {
    "accelerator": "TPU",
    "colab": {
      "gpuType": "V28",
      "provenance": []
    },
    "kernelspec": {
      "display_name": "Python 3",
      "name": "python3"
    },
    "language_info": {
      "codemirror_mode": {
        "name": "ipython",
        "version": 3
      },
      "file_extension": ".py",
      "mimetype": "text/x-python",
      "name": "python",
      "nbconvert_exporter": "python",
      "pygments_lexer": "ipython3",
      "version": "3.10.11"
    }
  },
  "nbformat": 4,
  "nbformat_minor": 0
}
