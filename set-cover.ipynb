{
 "cells": [
  {
   "cell_type": "markdown",
   "metadata": {},
   "source": [
    "Copyright **`(c)`** 2024 Giovanni Squillero `<giovanni.squillero@polito.it>`  \n",
    "[`https://github.com/squillero/computational-intelligence`](https://github.com/squillero/computational-intelligence)  \n",
    "Free for personal or classroom use; see [`LICENSE.md`](https://github.com/squillero/computational-intelligence/blob/master/LICENSE.md) for details.  "
   ]
  },
  {
   "cell_type": "markdown",
   "metadata": {},
   "source": [
    "# Set Cover problem\n",
    "\n",
    "See: https://en.wikipedia.org/wiki/Set_cover_problem"
   ]
  },
  {
   "cell_type": "code",
   "execution_count": 167,
   "metadata": {},
   "outputs": [],
   "source": [
    "from random import random, seed\n",
    "from itertools import product\n",
    "import numpy as np\n",
    "from matplotlib import pyplot as plt\n",
    "from itertools import accumulate\n",
    "\n",
    "from icecream import ic"
   ]
  },
  {
   "cell_type": "markdown",
   "metadata": {},
   "source": [
    "## Reproducible Initialization\n",
    "\n",
    "If you want to get reproducible results, use `rng` (and restart the kernel); for non-reproducible ones, use `np.random`."
   ]
  },
  {
   "cell_type": "code",
   "execution_count": 168,
   "metadata": {},
   "outputs": [],
   "source": [
    "UNIVERSE_SIZE = 2000\n",
    "NUM_SETS = 100\n",
    "DENSITY = 0.1\n",
    "\n",
    "rng = np.random.Generator(np.random.PCG64([UNIVERSE_SIZE, NUM_SETS, int(10_000 * DENSITY)]))"
   ]
  },
  {
   "cell_type": "code",
   "execution_count": 169,
   "metadata": {},
   "outputs": [],
   "source": [
    "# DON'T EDIT THESE LINES!\n",
    "\n",
    "SETS = np.random.random((NUM_SETS, UNIVERSE_SIZE)) < DENSITY\n",
    "for s in range(UNIVERSE_SIZE):\n",
    "    if not np.any(SETS[:, s]):\n",
    "        SETS[np.random.randint(NUM_SETS), s] = True\n",
    "COSTS = np.pow(SETS.sum(axis=1), 1.1)"
   ]
  },
  {
   "cell_type": "markdown",
   "metadata": {},
   "source": [
    "## Helper Functions"
   ]
  },
  {
   "cell_type": "code",
   "execution_count": 170,
   "metadata": {},
   "outputs": [],
   "source": [
    "def valid(solution):\n",
    "    \"\"\"Checks wether solution is valid (ie. covers all universe)\"\"\"\n",
    "    return np.all(np.logical_or.reduce(SETS[solution])) #phenotype: np.logical_or.reduce(SETS[solution])\n",
    "\n",
    "\n",
    "def cost(solution):\n",
    "    \"\"\"Returns the cost of a solution (to be minimized)\"\"\"\n",
    "    return COSTS[solution].sum()"
   ]
  },
  {
   "cell_type": "markdown",
   "metadata": {},
   "source": [
    "## Have Fun!"
   ]
  },
  {
   "cell_type": "code",
   "execution_count": 171,
   "metadata": {},
   "outputs": [],
   "source": [
    "# A dumb solution of \"all\" sets\n",
    "#solution = np.full(NUM_SETS, True)\n",
    "#ic(valid(solution), cost(solution))\n",
    "#None"
   ]
  },
  {
   "cell_type": "code",
   "execution_count": 172,
   "metadata": {},
   "outputs": [],
   "source": [
    "# A random solution with random 50% of the sets\n",
    "#solution = rng.random(NUM_SETS) < .5\n",
    "#ic(valid(solution), cost(solution))\n",
    "#None"
   ]
  },
  {
   "cell_type": "code",
   "execution_count": 173,
   "metadata": {},
   "outputs": [],
   "source": [
    "def fitness(solution:np.ndarray):\n",
    "    return (valid(solution),-cost(solution))"
   ]
  },
  {
   "cell_type": "code",
   "execution_count": 174,
   "metadata": {},
   "outputs": [],
   "source": [
    "# Apply the greedy algorithm to the first set of LIST_OF_SETS\n",
    "class TabuSearch:\n",
    "    def __init__(self, list_of_sets, max_iterations, tabu_tenure, max_no_improve):\n",
    "        self.list_of_sets = list_of_sets\n",
    "        self.max_iterations = max_iterations\n",
    "        self.tabu_tenure = tabu_tenure\n",
    "        self.max_no_improve = max_no_improve\n",
    "        self.tabu_list = []\n",
    "        self.best_solution = None\n",
    "        self.best_cost = float('inf')\n",
    "        self.evaluations=0\n",
    "\n",
    "    def _get_coverage(self, selected_sets):\n",
    "        # Calculate the coverage of the selected sets\n",
    "        sets, _ = self.list_of_sets\n",
    "        covered = np.any(sets[selected_sets], axis=0)\n",
    "        return covered\n",
    "\n",
    "    def _evaluate_solution(self, selected_sets):\n",
    "        # Evaluate the solution based on the total cost of the selected sets\n",
    "        self.evaluations += 1\n",
    "        # Use the external cost function to compute the total cost\n",
    "        total_cost = cost(selected_sets)\n",
    "        # Get the coverage of elements by the selected sets\n",
    "        covered_elements = self._get_coverage(selected_sets)\n",
    "        # Calculate the number of uncovered elements\n",
    "        num_uncovered = np.sum(~covered_elements)\n",
    "\n",
    "        return total_cost, num_uncovered\n",
    "\n",
    "\n",
    "    def _generate_initial_solution(self):\n",
    "        # Greedy initialization: select sets that cover the most elements\n",
    "        sets, _ = self.list_of_sets\n",
    "        num_elements = sets.shape[1]\n",
    "        uncovered_elements = np.ones(num_elements, dtype=bool)\n",
    "        selected_sets = []\n",
    "\n",
    "        while np.any(uncovered_elements):\n",
    "            # Select the set that covers the most uncovered elements\n",
    "            cover_count = np.sum(sets[:, uncovered_elements], axis=1)\n",
    "            best_set = np.argmax(cover_count)\n",
    "            selected_sets.append(best_set)\n",
    "            uncovered_elements = uncovered_elements & ~sets[best_set]\n",
    "\n",
    "        return selected_sets\n",
    "\n",
    "    def _get_neighborhood(self, current_solution):\n",
    "        # Generate neighborhood by adding or removing one set from the current solution\n",
    "        sets, _ = self.list_of_sets\n",
    "        num_sets = sets.shape[0]\n",
    "        neighborhood = []\n",
    "\n",
    "        # Try adding a new set\n",
    "        for s in range(num_sets):\n",
    "            if s not in current_solution:\n",
    "                new_solution = current_solution + [s]\n",
    "                neighborhood.append(new_solution)\n",
    "\n",
    "        # Try removing a set\n",
    "        for s in current_solution:\n",
    "            new_solution = [i for i in current_solution if i != s]\n",
    "            neighborhood.append(new_solution)\n",
    "\n",
    "        return neighborhood\n",
    "\n",
    "    def run(self):\n",
    "        current_solution = self._generate_initial_solution()\n",
    "        current_cost, num_uncovered = self._evaluate_solution(current_solution)\n",
    "        best_solution = current_solution\n",
    "        best_solution_cover=len(current_solution)-num_uncovered\n",
    "        best_cost = current_cost\n",
    "        no_improve_count = 0\n",
    "\n",
    "        for iteration in range(self.max_iterations):\n",
    "            # print(f\"Iteration {iteration + 1}/{self.max_iterations}\")\n",
    "            neighborhood = self._get_neighborhood(current_solution)\n",
    "            best_neigh_solution = None\n",
    "            best_neigh_cost = float('inf')\n",
    "            best_neigh_cover = 0\n",
    "\n",
    "            # Evaluate all neighbors\n",
    "            for neighbor in neighborhood:\n",
    "                if neighbor not in self.tabu_list:\n",
    "                    neigh_cost, neigh_uncovered = self._evaluate_solution(neighbor)\n",
    "                    neigh_cover = len(neighbor) - neigh_uncovered  # Calculate coverage for neighbor\n",
    "\n",
    "                    # Only consider valid solutions that cover all elements\n",
    "                    if neigh_uncovered == 0 and neigh_cost < best_neigh_cost:\n",
    "                        best_neigh_solution = neighbor\n",
    "                        best_neigh_cost = neigh_cost\n",
    "                        best_neigh_cover=neigh_cover#len(best_neigh_solution)-neigh_uncovered\n",
    "\n",
    "            # If no valid neighbor found, stop\n",
    "            if best_neigh_solution is None:\n",
    "                break\n",
    "\n",
    "            # Update current solution to best neighbor\n",
    "            current_solution = best_neigh_solution\n",
    "            current_cost = best_neigh_cost\n",
    "            current_solution_cover=best_neigh_cover#len(current_solution)-neigh_uncovered\n",
    "\n",
    "\n",
    "            # Update tabu list\n",
    "            self.tabu_list.append(current_solution)\n",
    "            if len(self.tabu_list) > self.tabu_tenure:\n",
    "                self.tabu_list.pop(0)\n",
    "\n",
    "            # Update best solution if necessary\n",
    "            if current_cost < best_cost:\n",
    "                best_solution = current_solution\n",
    "                best_cost = current_cost\n",
    "                best_solution_cover=current_solution_cover\n",
    "\n",
    "                no_improve_count = 0\n",
    "            else:\n",
    "                no_improve_count += 1\n",
    "\n",
    "            # Stop if no improvement for too long\n",
    "            if no_improve_count >= self.max_no_improve:\n",
    "                break\n",
    "\n",
    "        self.best_solution = best_solution\n",
    "        self.best_cost = best_cost\n",
    "        return best_solution, best_cost, self.evaluations, best_solution_cover #best_solution_cover num of set to cover all elements"
   ]
  },
  {
   "cell_type": "code",
   "execution_count": 175,
   "metadata": {},
   "outputs": [
    {
     "name": "stdout",
     "output_type": "stream",
     "text": [
      "Results for Instance 1:\n",
      "Best Solution: [np.int64(2), np.int64(1), np.int64(0), np.int64(4), np.int64(6), np.int64(8), np.int64(5), np.int64(9), np.int64(3)]\n",
      "Best Solution cover: 9\n",
      "Best Cost: 273.1707774606529\n",
      "----------------------------------------\n",
      "Results for Instance 2:\n",
      "Best Solution: [np.int64(63), np.int64(12), np.int64(70), np.int64(20), np.int64(27), np.int64(67), np.int64(57), np.int64(80), np.int64(50), np.int64(11), np.int64(18), np.int64(64), np.int64(73), np.int64(34), np.int64(24), 56, 33]\n",
      "Best Solution cover: 17\n",
      "Best Cost: 5763.442996962659\n",
      "----------------------------------------\n",
      "Results for Instance 3:\n",
      "Best Solution: [np.int64(955), np.int64(102), np.int64(651), np.int64(314), np.int64(115), np.int64(834), np.int64(90), np.int64(206), np.int64(425), np.int64(506), np.int64(613), np.int64(584), np.int64(17), np.int64(333), np.int64(359), np.int64(522), np.int64(27), np.int64(111), np.int64(132), np.int64(450), np.int64(466), np.int64(732), np.int64(19)]\n",
      "Best Solution cover: 23\n",
      "Best Cost: 100343.19467078913\n",
      "----------------------------------------\n"
     ]
    },
    {
     "ename": "KeyboardInterrupt",
     "evalue": "",
     "output_type": "error",
     "traceback": [
      "\u001b[1;31m---------------------------------------------------------------------------\u001b[0m",
      "\u001b[1;31mKeyboardInterrupt\u001b[0m                         Traceback (most recent call last)",
      "Cell \u001b[1;32mIn[175], line 46\u001b[0m\n\u001b[0;32m     44\u001b[0m tabu_search \u001b[38;5;241m=\u001b[39m TabuSearch(list_of_sets, max_iterations, tabu_tenure, max_no_improve) \u001b[38;5;66;03m#self, list_of_sets, max_iterations, tabu_tenure, max_no_improve\u001b[39;00m\n\u001b[0;32m     45\u001b[0m \u001b[38;5;66;03m#print(f\"3------------------\")\u001b[39;00m\n\u001b[1;32m---> 46\u001b[0m best_solution, best_cost, evaluations, best_solution_cover \u001b[38;5;241m=\u001b[39m \u001b[43mtabu_search\u001b[49m\u001b[38;5;241;43m.\u001b[39;49m\u001b[43mrun\u001b[49m\u001b[43m(\u001b[49m\u001b[43m)\u001b[49m\n\u001b[0;32m     47\u001b[0m \u001b[38;5;66;03m#print(f\"4------------------\")\u001b[39;00m\n\u001b[0;32m     48\u001b[0m \n\u001b[0;32m     49\u001b[0m \u001b[38;5;66;03m# Output results for the current instance\u001b[39;00m\n\u001b[0;32m     50\u001b[0m \u001b[38;5;28mprint\u001b[39m(\u001b[38;5;124mf\u001b[39m\u001b[38;5;124m\"\u001b[39m\u001b[38;5;124mResults for Instance \u001b[39m\u001b[38;5;132;01m{\u001b[39;00mi\u001b[38;5;132;01m}\u001b[39;00m\u001b[38;5;124m:\u001b[39m\u001b[38;5;124m\"\u001b[39m)\n",
      "Cell \u001b[1;32mIn[174], line 85\u001b[0m, in \u001b[0;36mTabuSearch.run\u001b[1;34m(self)\u001b[0m\n\u001b[0;32m     83\u001b[0m \u001b[38;5;28;01mfor\u001b[39;00m neighbor \u001b[38;5;129;01min\u001b[39;00m neighborhood:\n\u001b[0;32m     84\u001b[0m     \u001b[38;5;28;01mif\u001b[39;00m neighbor \u001b[38;5;129;01mnot\u001b[39;00m \u001b[38;5;129;01min\u001b[39;00m \u001b[38;5;28mself\u001b[39m\u001b[38;5;241m.\u001b[39mtabu_list:\n\u001b[1;32m---> 85\u001b[0m         neigh_cost, neigh_uncovered \u001b[38;5;241m=\u001b[39m \u001b[38;5;28;43mself\u001b[39;49m\u001b[38;5;241;43m.\u001b[39;49m\u001b[43m_evaluate_solution\u001b[49m\u001b[43m(\u001b[49m\u001b[43mneighbor\u001b[49m\u001b[43m)\u001b[49m\n\u001b[0;32m     86\u001b[0m         neigh_cover \u001b[38;5;241m=\u001b[39m \u001b[38;5;28mlen\u001b[39m(neighbor) \u001b[38;5;241m-\u001b[39m neigh_uncovered  \u001b[38;5;66;03m# Calculate coverage for neighbor\u001b[39;00m\n\u001b[0;32m     88\u001b[0m         \u001b[38;5;66;03m# Only consider valid solutions that cover all elements\u001b[39;00m\n",
      "Cell \u001b[1;32mIn[174], line 25\u001b[0m, in \u001b[0;36mTabuSearch._evaluate_solution\u001b[1;34m(self, selected_sets)\u001b[0m\n\u001b[0;32m     23\u001b[0m total_cost \u001b[38;5;241m=\u001b[39m cost(selected_sets)\n\u001b[0;32m     24\u001b[0m \u001b[38;5;66;03m# Get the coverage of elements by the selected sets\u001b[39;00m\n\u001b[1;32m---> 25\u001b[0m covered_elements \u001b[38;5;241m=\u001b[39m \u001b[38;5;28;43mself\u001b[39;49m\u001b[38;5;241;43m.\u001b[39;49m\u001b[43m_get_coverage\u001b[49m\u001b[43m(\u001b[49m\u001b[43mselected_sets\u001b[49m\u001b[43m)\u001b[49m\n\u001b[0;32m     26\u001b[0m \u001b[38;5;66;03m# Calculate the number of uncovered elements\u001b[39;00m\n\u001b[0;32m     27\u001b[0m num_uncovered \u001b[38;5;241m=\u001b[39m np\u001b[38;5;241m.\u001b[39msum(\u001b[38;5;241m~\u001b[39mcovered_elements)\n",
      "Cell \u001b[1;32mIn[174], line 16\u001b[0m, in \u001b[0;36mTabuSearch._get_coverage\u001b[1;34m(self, selected_sets)\u001b[0m\n\u001b[0;32m     13\u001b[0m \u001b[38;5;28;01mdef\u001b[39;00m \u001b[38;5;21m_get_coverage\u001b[39m(\u001b[38;5;28mself\u001b[39m, selected_sets):\n\u001b[0;32m     14\u001b[0m     \u001b[38;5;66;03m# Calculate the coverage of the selected sets\u001b[39;00m\n\u001b[0;32m     15\u001b[0m     sets, _ \u001b[38;5;241m=\u001b[39m \u001b[38;5;28mself\u001b[39m\u001b[38;5;241m.\u001b[39mlist_of_sets\n\u001b[1;32m---> 16\u001b[0m     covered \u001b[38;5;241m=\u001b[39m \u001b[43mnp\u001b[49m\u001b[38;5;241;43m.\u001b[39;49m\u001b[43many\u001b[49m\u001b[43m(\u001b[49m\u001b[43msets\u001b[49m\u001b[43m[\u001b[49m\u001b[43mselected_sets\u001b[49m\u001b[43m]\u001b[49m\u001b[43m,\u001b[49m\u001b[43m \u001b[49m\u001b[43maxis\u001b[49m\u001b[38;5;241;43m=\u001b[39;49m\u001b[38;5;241;43m0\u001b[39;49m\u001b[43m)\u001b[49m\n\u001b[0;32m     17\u001b[0m     \u001b[38;5;28;01mreturn\u001b[39;00m covered\n",
      "File \u001b[1;32m~\\AppData\\Local\\Packages\\PythonSoftwareFoundation.Python.3.10_qbz5n2kfra8p0\\LocalCache\\local-packages\\Python310\\site-packages\\numpy\\_core\\fromnumeric.py:2491\u001b[0m, in \u001b[0;36m_any_dispatcher\u001b[1;34m(a, axis, out, keepdims, where)\u001b[0m\n\u001b[0;32m   2483\u001b[0m         \u001b[38;5;28;01mreturn\u001b[39;00m res\n\u001b[0;32m   2485\u001b[0m     \u001b[38;5;28;01mreturn\u001b[39;00m _wrapreduction(\n\u001b[0;32m   2486\u001b[0m         a, np\u001b[38;5;241m.\u001b[39madd, \u001b[38;5;124m'\u001b[39m\u001b[38;5;124msum\u001b[39m\u001b[38;5;124m'\u001b[39m, axis, dtype, out,\n\u001b[0;32m   2487\u001b[0m         keepdims\u001b[38;5;241m=\u001b[39mkeepdims, initial\u001b[38;5;241m=\u001b[39minitial, where\u001b[38;5;241m=\u001b[39mwhere\n\u001b[0;32m   2488\u001b[0m     )\n\u001b[1;32m-> 2491\u001b[0m \u001b[38;5;28;01mdef\u001b[39;00m \u001b[38;5;21m_any_dispatcher\u001b[39m(a, axis\u001b[38;5;241m=\u001b[39m\u001b[38;5;28;01mNone\u001b[39;00m, out\u001b[38;5;241m=\u001b[39m\u001b[38;5;28;01mNone\u001b[39;00m, keepdims\u001b[38;5;241m=\u001b[39m\u001b[38;5;28;01mNone\u001b[39;00m, \u001b[38;5;241m*\u001b[39m,\n\u001b[0;32m   2492\u001b[0m                     where\u001b[38;5;241m=\u001b[39mnp\u001b[38;5;241m.\u001b[39m_NoValue):\n\u001b[0;32m   2493\u001b[0m     \u001b[38;5;28;01mreturn\u001b[39;00m (a, where, out)\n\u001b[0;32m   2496\u001b[0m \u001b[38;5;129m@array_function_dispatch\u001b[39m(_any_dispatcher)\n\u001b[0;32m   2497\u001b[0m \u001b[38;5;28;01mdef\u001b[39;00m \u001b[38;5;21many\u001b[39m(a, axis\u001b[38;5;241m=\u001b[39m\u001b[38;5;28;01mNone\u001b[39;00m, out\u001b[38;5;241m=\u001b[39m\u001b[38;5;28;01mNone\u001b[39;00m, keepdims\u001b[38;5;241m=\u001b[39mnp\u001b[38;5;241m.\u001b[39m_NoValue, \u001b[38;5;241m*\u001b[39m, where\u001b[38;5;241m=\u001b[39mnp\u001b[38;5;241m.\u001b[39m_NoValue):\n",
      "\u001b[1;31mKeyboardInterrupt\u001b[0m: "
     ]
    }
   ],
   "source": [
    "# UNIVERSE_SIZE = 2000  # Number of elements in the universe\n",
    "# NUM_SETS = 100        # Number of sets\n",
    "# DENSITY = 0.1         # Approximate density of coverage (10% of elements covered by each set)\n",
    "\n",
    "# Define your instances\n",
    "instances = [\n",
    "    {\"Universe size\": 100, \"Num sets\": 10, \"Density\": 0.2},\n",
    "    {\"Universe size\": 1_000, \"Num sets\": 100, \"Density\": 0.2},\n",
    "    {\"Universe size\": 10_000, \"Num sets\": 1_000, \"Density\": 0.2},\n",
    "    {\"Universe size\": 100_000, \"Num sets\": 10_000, \"Density\": 0.1},\n",
    "    {\"Universe size\": 100_000, \"Num sets\": 1_000, \"Density\": 0.2},\n",
    "    {\"Universe size\": 100_000, \"Num sets\": 10_000, \"Density\": 0.3},\n",
    "]\n",
    "\n",
    "# Initialize TabuSearch parameters\n",
    "max_iterations = 1000\n",
    "tabu_tenure = 50\n",
    "max_no_improve = 500\n",
    "\n",
    "# Iterate over all instances\n",
    "for i, instance in enumerate(instances, start=1):\n",
    "    # Extract parameters\n",
    "    universe_size = instance[\"Universe size\"]\n",
    "    num_sets = instance[\"Num sets\"]\n",
    "    density = instance[\"Density\"]\n",
    "\n",
    "    # Random number generator\n",
    "    rng = np.random.Generator(np.random.PCG64())\n",
    "\n",
    "    '''unedit line'''\n",
    "    SETS = np.random.random((num_sets, universe_size)) < density\n",
    "    for s in range(universe_size):\n",
    "        if not np.any(SETS[:, s]):\n",
    "            SETS[np.random.randint(num_sets), s] = True\n",
    "    COSTS = np.pow(SETS.sum(axis=1), 1.1)\n",
    "    #print(f\"1------------------\")\n",
    "\n",
    "    # Combine sets and costs in a tuple as input\n",
    "    list_of_sets = (SETS, COSTS)\n",
    "\n",
    "    #print(f\"2------------------\")\n",
    "\n",
    "    # Initialize and run the TabuSearch algorithm\n",
    "    tabu_search = TabuSearch(list_of_sets, max_iterations, tabu_tenure, max_no_improve) #self, list_of_sets, max_iterations, tabu_tenure, max_no_improve\n",
    "    #print(f\"3------------------\")\n",
    "    best_solution, best_cost, evaluations, best_solution_cover = tabu_search.run()\n",
    "    #print(f\"4------------------\")\n",
    "\n",
    "    # Output results for the current instance\n",
    "    print(f\"Results for Instance {i}:\")\n",
    "    print(\"Best Solution:\", best_solution)\n",
    "    print(\"Best Solution cover:\", best_solution_cover)\n",
    "    print(\"Best Cost:\", best_cost)\n",
    "    #print(\"Total Evaluations:\", evaluations)\n",
    "    print('-' * 40)  # Separator for clarity between instances\n"
   ]
  }
 ],
 "metadata": {
  "kernelspec": {
   "display_name": "Python 3",
   "language": "python",
   "name": "python3"
  },
  "language_info": {
   "codemirror_mode": {
    "name": "ipython",
    "version": 3
   },
   "file_extension": ".py",
   "mimetype": "text/x-python",
   "name": "python",
   "nbconvert_exporter": "python",
   "pygments_lexer": "ipython3",
   "version": "3.10.11"
  }
 },
 "nbformat": 4,
 "nbformat_minor": 4
}
